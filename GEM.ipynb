{
 "cells": [
  {
   "cell_type": "code",
   "execution_count": 2,
   "metadata": {
    "collapsed": true
   },
   "outputs": [],
   "source": [
    "import numpy as np\n",
    "import pandas as pd\n",
    "from scipy.stats import norm\n",
    "\n",
    "from sklearn import mixture\n",
    "from sklearn import cluster\n",
    "from sklearn.metrics import confusion_matrix\n",
    "from sklearn.utils.extmath import logsumexp\n",
    "\n",
    "from pdb import set_trace"
   ]
  },
  {
   "cell_type": "code",
   "execution_count": 3,
   "metadata": {
    "collapsed": false
   },
   "outputs": [],
   "source": [
    "EPS = np.finfo(float).eps\n",
    "\n",
    "class GEM:\n",
    "    \n",
    "    def __init__(self,n_components=2):\n",
    "        self.thresh = 0.00001\n",
    "        self.n_components=n_components\n",
    "        self.n_iter=100\n",
    "        self.weights_ = np.ones(n_components) / n_components\n",
    "        #self.means_= cluster.KMeans(n_clusters= n_components).fit(X[:,np.newaxis]).cluster_centers_\n",
    "        self.means_ = np.array([-1e10,0.0])\n",
    "        #self.covars_= np.ones(n_components)\n",
    "        self.converged_ = False\n",
    "        \n",
    "    def log_pdf(self,X):\n",
    "        ss=len(X)\n",
    "        res=np.empty((len(X),0))\n",
    "        lp=np.where(X>self.means_[0],-X+self.means_[0],-np.inf)\n",
    "        #lp=-0.5*(np.log(2*np.pi)+X**2-2*self.means_[0]*X+self.means_[0]**2)\n",
    "        res=np.concatenate((res,lp[:,np.newaxis]),axis=1)\n",
    "        lp=-0.5*(np.log(2*np.pi)+X**2-2*self.means_[1]*X+self.means_[1]**2)\n",
    "        res=np.concatenate((res,lp[:,np.newaxis]),axis=1)\n",
    "        return res\n",
    "        \n",
    "    def score_samples(self, X):\n",
    "        lpr = (self.log_pdf(X)+np.log(self.weights_))\n",
    "        logprob = logsumexp(lpr, axis=1)\n",
    "        res = np.exp(lpr - logprob[:, np.newaxis])\n",
    "        return logprob, res\n",
    "    \n",
    "    def fit(self,X):\n",
    "        current_log_likelihood = None\n",
    "        self.converged_ = False\n",
    "        thresh = self.thresh\n",
    "               \n",
    "        for i in range(self.n_iter):\n",
    "            prev_log_likelihood = current_log_likelihood\n",
    "            log_likelihoods, res = self.score_samples(X)\n",
    "            current_log_likelihood = log_likelihoods.mean()\n",
    "            \n",
    "            if prev_log_likelihood is not None:\n",
    "                change = current_log_likelihood - prev_log_likelihood\n",
    "                if change < thresh:\n",
    "                    self.converged_ = True\n",
    "                    #print 'After ', i, ' iters,\\nEM algorithm converged.'\n",
    "                    break\n",
    "            self.res = res        \n",
    "            self._do_mstep(X)\n",
    "        return np.round(self.res)\n",
    "            \n",
    "    def _do_mstep(self,X):\n",
    "        weights = self.res.sum(axis=0)\n",
    "        self.weights_ = self.res.sum(axis=0)/self.res.sum() + EPS\n",
    "        weighted_X_sum = np.dot(self.res.T, X)\n",
    "        self.means_ = weighted_X_sum / (weights + EPS)\n",
    "        return"
   ]
  },
  {
   "cell_type": "code",
   "execution_count": 4,
   "metadata": {
    "collapsed": false
   },
   "outputs": [],
   "source": [
    "df = pd.read_csv('labeled_sina_new.csv')"
   ]
  },
  {
   "cell_type": "code",
   "execution_count": 5,
   "metadata": {
    "collapsed": true
   },
   "outputs": [],
   "source": [
    "df2=df.loc[df['state'].isin([1,3]),['ewav_back buy/sell','state']]"
   ]
  },
  {
   "cell_type": "code",
   "execution_count": 6,
   "metadata": {
    "collapsed": true
   },
   "outputs": [],
   "source": [
    "X=df2['ewav_back buy/sell']"
   ]
  },
  {
   "cell_type": "code",
   "execution_count": 7,
   "metadata": {
    "collapsed": false
   },
   "outputs": [],
   "source": [
    "g=GEM()"
   ]
  },
  {
   "cell_type": "code",
   "execution_count": 8,
   "metadata": {
    "collapsed": false
   },
   "outputs": [],
   "source": [
    "r=g.fit(X)"
   ]
  },
  {
   "cell_type": "code",
   "execution_count": 9,
   "metadata": {
    "collapsed": false
   },
   "outputs": [
    {
     "data": {
      "text/plain": [
       "array([ 0.33093432,  0.66906568])"
      ]
     },
     "execution_count": 9,
     "metadata": {},
     "output_type": "execute_result"
    }
   ],
   "source": [
    "g.weights_"
   ]
  },
  {
   "cell_type": "code",
   "execution_count": 10,
   "metadata": {
    "collapsed": false
   },
   "outputs": [
    {
     "data": {
      "text/plain": [
       "array([ 97.16034559, -37.17418133])"
      ]
     },
     "execution_count": 10,
     "metadata": {},
     "output_type": "execute_result"
    }
   ],
   "source": [
    "g.means_"
   ]
  },
  {
   "cell_type": "code",
   "execution_count": 11,
   "metadata": {
    "collapsed": false
   },
   "outputs": [],
   "source": [
    "y_pred = np.where(r[:,0]==1.0,3,1)"
   ]
  },
  {
   "cell_type": "code",
   "execution_count": 12,
   "metadata": {
    "collapsed": false
   },
   "outputs": [],
   "source": [
    "y_true = df2['state']"
   ]
  },
  {
   "cell_type": "code",
   "execution_count": 13,
   "metadata": {
    "collapsed": false
   },
   "outputs": [
    {
     "data": {
      "text/plain": [
       "array([[123,  16],\n",
       "       [ 63,  76]])"
      ]
     },
     "execution_count": 13,
     "metadata": {},
     "output_type": "execute_result"
    }
   ],
   "source": [
    "confusion_matrix(y_true, y_pred)"
   ]
  },
  {
   "cell_type": "code",
   "execution_count": null,
   "metadata": {
    "collapsed": true
   },
   "outputs": [],
   "source": []
  }
 ],
 "metadata": {
  "kernelspec": {
   "display_name": "Python 2",
   "language": "python",
   "name": "python2"
  },
  "language_info": {
   "codemirror_mode": {
    "name": "ipython",
    "version": 2
   },
   "file_extension": ".py",
   "mimetype": "text/x-python",
   "name": "python",
   "nbconvert_exporter": "python",
   "pygments_lexer": "ipython2",
   "version": "2.7.11"
  }
 },
 "nbformat": 4,
 "nbformat_minor": 0
}
