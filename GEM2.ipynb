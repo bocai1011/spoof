{
 "cells": [
  {
   "cell_type": "code",
   "execution_count": 227,
   "metadata": {
    "collapsed": true
   },
   "outputs": [],
   "source": [
    "from scipy.stats import norm\n",
    "from scipy.stats import expon\n",
    "\n",
    "from sklearn.metrics import confusion_matrix\n",
    "\n",
    "import pandas as pd\n",
    "import numpy as np"
   ]
  },
  {
   "cell_type": "code",
   "execution_count": 233,
   "metadata": {
    "collapsed": false
   },
   "outputs": [],
   "source": [
    "EPS = np.finfo(float).eps\n",
    "\n",
    "class GEM:\n",
    "    def __init__(self):\n",
    "        self.thresh = 10*EPS\n",
    "        self.n_iter = 100\n",
    "        self.alpha = 0.5\n",
    "        self.beta = 1.0\n",
    "        self.mu = 0.0\n",
    "        self.sigma = 1.0\n",
    "        return \n",
    "    \n",
    "    def fit(self,X):\n",
    "        oldP = None\n",
    "        for i in range(self.n_iter):\n",
    "            logP,r1,r2 = self.score_samples(X)\n",
    "            #print np.round(logP,3)\n",
    "            if oldP:\n",
    "                if abs(logP - oldP)<self.thresh:\n",
    "                    self.end_iter = i\n",
    "                    self.print_info()\n",
    "                    return\n",
    "                \n",
    "            oldP = logP\n",
    "            self._do_mstep(r1,r2)\n",
    "            \n",
    "            \n",
    "        print \"converge fail!\"\n",
    "        return\n",
    "            \n",
    "    def score_samples(self,X):\n",
    "        y1 = self.alpha*expon(scale=self.beta).pdf(X)\n",
    "        y2 = (1-self.alpha)*norm(self.mu,self.sigma).pdf(X)\n",
    "        return np.sum(np.log(y1+y2)),y1/(y1+y2),y2/(y1+y2)\n",
    "    \n",
    "    def _do_mstep(self,r1,r2):\n",
    "        self.r = r1\n",
    "        self.alpha = np.mean(r1)\n",
    "        self.beta = np.sum(r1*X) / np.sum(r1)\n",
    "        mu = np.sum(r2*X) / np.sum(r2)\n",
    "        covar = np.sum(r2*(X-mu)**2)/np.sum(r2)\n",
    "        self.mu = mu\n",
    "        self.sigma = np.sqrt(covar)\n",
    "        return\n",
    "    \n",
    "    def print_info(self):\n",
    "        print \"After \", self.end_iter, \" iters, converged!\"\n",
    "        print \"Weights: \", np.round(self.alpha,2), \"\\t\", np.round(1-self.alpha,2)\n",
    "        print \"beta: \", self.beta\n",
    "        print \"mu: \", self.mu\n",
    "        print \"sigma: \", self.sigma\n",
    "        return"
   ]
  },
  {
   "cell_type": "code",
   "execution_count": 250,
   "metadata": {
    "collapsed": false
   },
   "outputs": [],
   "source": [
    "df = pd.read_csv('labeled_sina_new.csv')\n",
    "df2 = df.loc[df['state'].isin([1,3]),['ewav_back buy/sell','state']]\n",
    "df2 = df2[(df2['ewav_back buy/sell']<500)&(df2['ewav_back buy/sell']>-30)]\n",
    "X = df2['ewav_back buy/sell']"
   ]
  },
  {
   "cell_type": "code",
   "execution_count": 251,
   "metadata": {
    "collapsed": true
   },
   "outputs": [],
   "source": [
    "g = GEM()"
   ]
  },
  {
   "cell_type": "code",
   "execution_count": 252,
   "metadata": {
    "collapsed": false
   },
   "outputs": [
    {
     "name": "stdout",
     "output_type": "stream",
     "text": [
      "After  62  iters, converged!\n",
      "Weights:  0.45 \t0.55\n",
      "beta:  35.2216462488\n",
      "mu:  -0.340088017395\n",
      "sigma:  8.7379028\n"
     ]
    }
   ],
   "source": [
    "g.fit(X)"
   ]
  },
  {
   "cell_type": "code",
   "execution_count": 253,
   "metadata": {
    "collapsed": false
   },
   "outputs": [],
   "source": [
    "y_pred = np.where(g.r > 0.6,3,1) "
   ]
  },
  {
   "cell_type": "code",
   "execution_count": 254,
   "metadata": {
    "collapsed": false
   },
   "outputs": [],
   "source": [
    "y_true = df2['state']"
   ]
  },
  {
   "cell_type": "code",
   "execution_count": 255,
   "metadata": {
    "collapsed": false
   },
   "outputs": [
    {
     "data": {
      "text/plain": [
       "array([[105,  11],\n",
       "       [ 63,  73]])"
      ]
     },
     "execution_count": 255,
     "metadata": {},
     "output_type": "execute_result"
    }
   ],
   "source": [
    "confusion_matrix(y_true, y_pred)"
   ]
  },
  {
   "cell_type": "code",
   "execution_count": 256,
   "metadata": {
    "collapsed": false
   },
   "outputs": [],
   "source": [
    "df = pd.read_csv('labeled_sina_new.csv')\n",
    "df2 = df.loc[df['state'].isin([0,2]),['ewav_back sell/buy','state']]\n",
    "df2 = df2[(df2['ewav_back sell/buy']<500)&(df2['ewav_back sell/buy']>-30)]\n",
    "X = df2['ewav_back sell/buy']"
   ]
  },
  {
   "cell_type": "code",
   "execution_count": 257,
   "metadata": {
    "collapsed": false
   },
   "outputs": [
    {
     "name": "stdout",
     "output_type": "stream",
     "text": [
      "After  29  iters, converged!\n",
      "Weights:  0.35 \t0.65\n",
      "beta:  59.2166706124\n",
      "mu:  0.0074194233831\n",
      "sigma:  0.0103804521055\n"
     ]
    }
   ],
   "source": [
    "g.fit(X)"
   ]
  },
  {
   "cell_type": "code",
   "execution_count": 258,
   "metadata": {
    "collapsed": true
   },
   "outputs": [],
   "source": [
    "y_pred = np.where(g.r > 0.6,2,0) "
   ]
  },
  {
   "cell_type": "code",
   "execution_count": 259,
   "metadata": {
    "collapsed": true
   },
   "outputs": [],
   "source": [
    "y_true = df2['state']"
   ]
  },
  {
   "cell_type": "code",
   "execution_count": 260,
   "metadata": {
    "collapsed": false
   },
   "outputs": [
    {
     "data": {
      "text/plain": [
       "array([[75, 26],\n",
       "       [ 0, 14]])"
      ]
     },
     "execution_count": 260,
     "metadata": {},
     "output_type": "execute_result"
    }
   ],
   "source": [
    "confusion_matrix(y_true, y_pred)"
   ]
  },
  {
   "cell_type": "code",
   "execution_count": 261,
   "metadata": {
    "collapsed": false
   },
   "outputs": [
    {
     "data": {
      "text/plain": [
       "0    101\n",
       "2     14\n",
       "Name: state, dtype: int64"
      ]
     },
     "execution_count": 261,
     "metadata": {},
     "output_type": "execute_result"
    }
   ],
   "source": [
    "y_true.value_counts()"
   ]
  },
  {
   "cell_type": "code",
   "execution_count": null,
   "metadata": {
    "collapsed": true
   },
   "outputs": [],
   "source": []
  }
 ],
 "metadata": {
  "kernelspec": {
   "display_name": "Python 2",
   "language": "python",
   "name": "python2"
  },
  "language_info": {
   "codemirror_mode": {
    "name": "ipython",
    "version": 2
   },
   "file_extension": ".py",
   "mimetype": "text/x-python",
   "name": "python",
   "nbconvert_exporter": "python",
   "pygments_lexer": "ipython2",
   "version": "2.7.11"
  }
 },
 "nbformat": 4,
 "nbformat_minor": 0
}
