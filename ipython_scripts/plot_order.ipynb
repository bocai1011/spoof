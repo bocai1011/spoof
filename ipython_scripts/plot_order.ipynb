{
 "cells": [
  {
   "cell_type": "code",
   "execution_count": 67,
   "metadata": {
    "collapsed": true
   },
   "outputs": [],
   "source": [
    "import pandas as pd\n",
    "import numpy as np\n",
    "import matplotlib.pyplot as plt\n",
    "import datetime\n",
    "from datetime import timedelta\n",
    "%matplotlib qt"
   ]
  },
  {
   "cell_type": "code",
   "execution_count": 68,
   "metadata": {
    "collapsed": true
   },
   "outputs": [],
   "source": [
    "def prepare():\n",
    "    '''\n",
    "    data preparation;\n",
    "    '''\n",
    "    df = pd.read_csv('panl.csv')\n",
    "    df['entry_time']=pd.to_datetime(df['order_entry_time'])\n",
    "    df['cancel_time']=pd.to_datetime(df['cancel_entry_time'])\n",
    "    df['exec_time']=pd.to_datetime(df['execution_time'])\n",
    "    df=df.sort_values(by=['entry_time','orderid','order_type'],ascending=[True,True,False])\n",
    "    df=df[['orderid','side','order_type','prc','q_new','q_exec','q_canc','prc_exec','entry_time','cancel_time','exec_time']]\n",
    "    return df"
   ]
  },
  {
   "cell_type": "code",
   "execution_count": 69,
   "metadata": {
    "collapsed": false
   },
   "outputs": [],
   "source": [
    "def plot_oid(oid):\n",
    "    '''\n",
    "    plot single order.\n",
    "    marker size of the plot can be changed by changing ms value;\n",
    "    oid: order number\n",
    "    '''\n",
    "    s=2.0\n",
    "    ms=10 #change marker size here;\n",
    "    df=global_df[global_df['orderid']==oid]\n",
    "    \n",
    "    if df.iloc[0]['side']=='B':\n",
    "        _color='blue' #blue color for buy side;\n",
    "    else:\n",
    "        _color='red'  #red color for sell side;\n",
    "        \n",
    "    start_price=None\n",
    "    start_time=None\n",
    "    exec_price=[]\n",
    "    exec_time=[]\n",
    "    cancel_price=None\n",
    "    cancel_time=None\n",
    "    price_list=[]\n",
    "    time_list=[]\n",
    "    \n",
    "    start_time=df.iloc[0]['entry_time']\n",
    "    start_price=df.iloc[0]['prc']\n",
    "    q=df.iloc[0]['q_new']\n",
    "    \n",
    "    plt.plot(start_time,start_price,marker='s',markersize=np.log(q)*s,color=_color,fillstyle='none')\n",
    "    price_list.append(start_price)\n",
    "    time_list.append(start_time)\n",
    "    \n",
    "    qq=0.0\n",
    "    for i in range(1,len(df)):\n",
    "        if df.iloc[i]['order_type']=='EXECUTION':\n",
    "            price=df.iloc[i]['prc_exec']\n",
    "            time=df.iloc[i]['exec_time']\n",
    "            #plt.plot(time,price,marker='v',color=_color,fillstyle='none')\n",
    "            #price_list.append(price)\n",
    "            #time_list.append(time)\n",
    "            \n",
    "            exec_price.append(price)\n",
    "            exec_time.append(time)\n",
    "            qq+=df.iloc[i]['q_exec']\n",
    "            \n",
    "        elif df.iloc[i]['order_type']=='CANCEL':\n",
    "            cancel_price=df.iloc[0]['prc']\n",
    "            cancel_time=df.iloc[0]['cancel_time']\n",
    "            qqq=df.iloc[0]['q_canc']\n",
    "            plt.plot(cancel_time,cancel_price,marker='x',markersize=np.log(qqq)*s,color=_color,fillstyle='none')\n",
    "            #price_list.append(price)\n",
    "            #time_list.append(time)\n",
    "    qq=np.log(qq)*s\n",
    "    if len(exec_price)==1:\n",
    "        plt.plot(exec_time[0],exec_price[0],marker='v',markersize=qq,color=_color,fillstyle='none')\n",
    "        time_list.append(exec_time[0])\n",
    "        price_list.append(exec_price[0])\n",
    "        \n",
    "    elif len(exec_price)>=2:\n",
    "        plt.plot(exec_time[0],exec_price[0],marker='v',markersize=qq,color=_color,fillstyle='none')\n",
    "        plt.plot(exec_time[-1],exec_price[-1],marker='v',markersize=qq,color=_color,fillstyle='none')\n",
    "        time_list.append(exec_time[0])\n",
    "        price_list.append(exec_price[0])\n",
    "        time_list.append(exec_time[-1])\n",
    "        price_list.append(exec_price[-1])\n",
    "        \n",
    "    time_list.append(cancel_time)\n",
    "    price_list.append(cancel_price)\n",
    "        \n",
    "    plt.plot(time_list,price_list,color=_color)\n",
    "    \n",
    "    if len(exec_price)==0:\n",
    "        return (None,None)\n",
    "    if len(exec_price)==1:\n",
    "        return (exec_time[0],exec_price[0])\n",
    "    if len(exec_price)>=2:\n",
    "        return (exec_time[0]+(exec_time[-1]-exec_time[0])/2,np.average(exec_price))"
   ]
  },
  {
   "cell_type": "code",
   "execution_count": 70,
   "metadata": {
    "collapsed": false
   },
   "outputs": [],
   "source": [
    "def show_graph(oid=49244374,num=50,dy=0.1,dx=10):\n",
    "    '''\n",
    "    main function, plot all orders;\n",
    "    oid: order number\n",
    "    num: order range \n",
    "    dy: y axis range\n",
    "    dx: x axis range(in seconds)\n",
    "    '''\n",
    "    \n",
    "    oid_list=global_df['orderid'].unique()\n",
    "    idx=np.nonzero(oid_list==oid)[0][0]\n",
    "    \n",
    "    time_list=[]\n",
    "    price_list=[]\n",
    "    \n",
    "    time,price=plot_oid(oid)\n",
    "    if price is not None:\n",
    "        time_list.append(time)\n",
    "        price_list.append(price)\n",
    "    \n",
    "    for i in range(1,num):\n",
    "        \n",
    "        time,price=plot_oid(oid_list[idx-i])\n",
    "        if price is not None:\n",
    "            time_list.append(time)\n",
    "            price_list.append(price)\n",
    "        \n",
    "        time,price=plot_oid(oid_list[idx+i])\n",
    "        if price is not None:\n",
    "            time_list.append(time)\n",
    "            price_list.append(price)\n",
    "            \n",
    "    tuple_list=zip(time_list,price_list)\n",
    "    tuple_list=sorted(tuple_list)\n",
    "    time_list,price_list=zip(*tuple_list)\n",
    "    \n",
    "            \n",
    "    #import pdb;pdb.set_trace()\n",
    "    plt.plot(time_list,price_list,color='green')\n",
    "    plt.xlim(min(time_list)-timedelta(seconds=dx),max(time_list)+timedelta(seconds=dx))\n",
    "    plt.ylim(min(price_list)-dy,max(price_list)+dy)\n",
    "    plt.xlabel('Time')\n",
    "    plt.ylabel('Price')\n",
    "    \n",
    "    _title='order id:'+str(oid)+'  range: '+str(num)+'  (blue:buy red:sell)'\n",
    "    plt.title(_title)\n",
    "    plt.grid()\n",
    "    \n",
    "    plt.show()\n",
    "    "
   ]
  },
  {
   "cell_type": "code",
   "execution_count": 77,
   "metadata": {
    "collapsed": false
   },
   "outputs": [],
   "source": [
    "global_df=prepare()\n",
    "show_graph(oid=49244374,num=65,dx=25,dy=0.05) "
   ]
  },
  {
   "cell_type": "code",
   "execution_count": null,
   "metadata": {
    "collapsed": true
   },
   "outputs": [],
   "source": []
  }
 ],
 "metadata": {
  "kernelspec": {
   "display_name": "Python 2",
   "language": "python",
   "name": "python2"
  },
  "language_info": {
   "codemirror_mode": {
    "name": "ipython",
    "version": 2
   },
   "file_extension": ".py",
   "mimetype": "text/x-python",
   "name": "python",
   "nbconvert_exporter": "python",
   "pygments_lexer": "ipython2",
   "version": "2.7.11"
  }
 },
 "nbformat": 4,
 "nbformat_minor": 0
}
