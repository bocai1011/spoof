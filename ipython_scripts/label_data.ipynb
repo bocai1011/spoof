{
 "cells": [
  {
   "cell_type": "code",
   "execution_count": 1,
   "metadata": {
    "collapsed": false
   },
   "outputs": [],
   "source": [
    "import pandas as pd\n",
    "import numpy as np\n",
    "from datetime import timedelta"
   ]
  },
  {
   "cell_type": "code",
   "execution_count": 2,
   "metadata": {
    "collapsed": false
   },
   "outputs": [],
   "source": [
    "df=pd.read_csv('panl_result.csv')"
   ]
  },
  {
   "cell_type": "code",
   "execution_count": 3,
   "metadata": {
    "collapsed": false
   },
   "outputs": [],
   "source": [
    "def label(df):\n",
    "    interval=30*1E6\n",
    "    df['IsSpoof']=None\n",
    "    for i in range(len(df)):\n",
    "        if df.at[i,'order_type']=='EXECUTION' and df.at[i,'action']=='S' :\n",
    "            time=df.at[i,'time']\n",
    "            date=df.at[i,'date']\n",
    "            tmp=df[(df['date']==date)&(df['time']<time)&(df['time']>(time-interval))]\n",
    "            tmp=tmp[(tmp['order_type']=='CANCEL')&(tmp['action']=='B')]\n",
    "            s=tmp['shares'].sum()\n",
    "            if (s/df.at[i,'shares'])>4 or len(tmp)>=5:\n",
    "                df.at[i,'IsSpoof']=True\n",
    "            else:\n",
    "                df.at[i,'IsSpoof']=False\n",
    "                \n",
    "        elif df.at[i,'order_type']=='EXECUTION' and df.at[i,'action']=='B' :\n",
    "            time=df.at[i,'time']\n",
    "            date=df.at[i,'date']\n",
    "            tmp=df[(df['date']==date)&(df['time']<time)&(df['time']>(time-interval))]\n",
    "            tmp=tmp[(tmp['order_type']=='CANCEL')&(tmp['action']=='S')]\n",
    "            s=tmp['shares'].sum()\n",
    "            if (s/df.at[i,'shares'])>4 or len(tmp)>=5:\n",
    "                df.at[i,'IsSpoof']=True\n",
    "            else:\n",
    "                df.at[i,'IsSpoof']=False\n",
    "            \n",
    "        else:\n",
    "            df.at[i,'IsSpoof']=None\n",
    "        \n",
    "    return df"
   ]
  },
  {
   "cell_type": "code",
   "execution_count": 4,
   "metadata": {
    "collapsed": false
   },
   "outputs": [],
   "source": [
    "df=label(df)"
   ]
  },
  {
   "cell_type": "code",
   "execution_count": 5,
   "metadata": {
    "collapsed": true
   },
   "outputs": [],
   "source": [
    "df.to_csv('panl_result_labeled.csv',index=False)"
   ]
  },
  {
   "cell_type": "code",
   "execution_count": null,
   "metadata": {
    "collapsed": true
   },
   "outputs": [],
   "source": []
  }
 ],
 "metadata": {
  "kernelspec": {
   "display_name": "Python 2",
   "language": "python",
   "name": "python2"
  },
  "language_info": {
   "codemirror_mode": {
    "name": "ipython",
    "version": 2
   },
   "file_extension": ".py",
   "mimetype": "text/x-python",
   "name": "python",
   "nbconvert_exporter": "python",
   "pygments_lexer": "ipython2",
   "version": "2.7.11"
  }
 },
 "nbformat": 4,
 "nbformat_minor": 0
}
